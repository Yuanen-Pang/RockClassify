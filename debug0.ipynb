{
 "cells": [
  {
   "cell_type": "code",
   "execution_count": 8,
   "metadata": {},
   "outputs": [],
   "source": [
    "import torch\n",
    "import torch.nn as nn\n",
    "from torchvision.transforms import transforms\n",
    "from models.resnet_simclr import ResNetSimCLR\n",
    "from pyn import Json\n",
    "from PIL import Image\n",
    "from tqdm import tqdm\n",
    "import numpy as np\n",
    "import os\n",
    "join = os.path.join"
   ]
  },
  {
   "cell_type": "code",
   "execution_count": 9,
   "metadata": {},
   "outputs": [
    {
     "name": "stdout",
     "output_type": "stream",
     "text": [
      "dict_keys(['epoch', 'arch', 'state_dict', 'optimizer'])\n",
      "resnet18\n"
     ]
    }
   ],
   "source": [
    "checkpoint = torch.load('./runs/Feb01_12-26-18_pye-MS-7D42/checkpoint_0200.pth.tar')\n",
    "print(checkpoint.keys())\n",
    "print(checkpoint['arch'])\n",
    "model = ResNetSimCLR(checkpoint['arch'], 128)\n",
    "model.load_state_dict(checkpoint['state_dict'])\n",
    "model = model.backbone.cuda()\n",
    "model.fc = nn.Identity()"
   ]
  },
  {
   "cell_type": "code",
   "execution_count": 6,
   "metadata": {},
   "outputs": [],
   "source": [
    "PIL2Tesor = transforms.ToTensor()\n",
    "def img2tensor(img):\n",
    "    \n",
    "    img = Image.open(img)\n",
    "    return PIL2Tesor(img)"
   ]
  },
  {
   "cell_type": "code",
   "execution_count": 10,
   "metadata": {},
   "outputs": [
    {
     "name": "stderr",
     "output_type": "stream",
     "text": [
      "100%|██████████| 113398/113398 [20:36<00:00, 91.73it/s] \n",
      "100%|██████████| 12600/12600 [02:20<00:00, 89.88it/s] \n"
     ]
    }
   ],
   "source": [
    "permute, label = Json.load('../YJY_Rock/config/BoxImg_224_permute_0.json'),\\\n",
    "                    Json.load('../YJY_Rock/config/labels.json')\n",
    "tr_set, dev_set = permute['train_data'], permute['test_data']\n",
    "tr_features, dev_features = [], []\n",
    "img_root = '../YJY_Rock/'\n",
    "with torch.no_grad():\n",
    "    model.eval()\n",
    "    for img in tqdm(tr_set[:]):\n",
    "        img = join(img_root, img)\n",
    "        img_tensor = img2tensor(img).unsqueeze(0).cuda()\n",
    "        feature = model(img_tensor).cpu()\n",
    "        torch.cuda.empty_cache()\n",
    "        tr_features.append(feature)\n",
    "    for img in tqdm(dev_set[:]):\n",
    "        img = join(img_root, img)\n",
    "        img_tensor = img2tensor(img).unsqueeze(0).cuda()\n",
    "        feature = model(img_tensor).cpu()\n",
    "        torch.cuda.empty_cache()\n",
    "        dev_features.append(feature)\n",
    "tr_features = np.concatenate(tr_features, axis=0)\n",
    "dev_features = np.concatenate(dev_features, axis=0)\n",
    "np.save('../YJY_Rock/Features_SimCLR/tr_res18_X.npy', tr_features)\n",
    "np.save('../YJY_Rock/Features_SimCLR/tt_res18_X.npy', dev_features)"
   ]
  },
  {
   "cell_type": "code",
   "execution_count": 11,
   "metadata": {},
   "outputs": [
    {
     "name": "stderr",
     "output_type": "stream",
     "text": [
      "100%|██████████| 113398/113398 [00:00<00:00, 2939717.32it/s]\n",
      "100%|██████████| 12600/12600 [00:00<00:00, 2962842.99it/s]\n"
     ]
    }
   ],
   "source": [
    "permute, label = Json.load('../YJY_Rock/config/BoxImg_224_permute_0.json'),\\\n",
    "                    Json.load('../YJY_Rock/config/labels.json')\n",
    "tr_set, dev_set = permute['train_data'], permute['test_data']\n",
    "tr_label, dev_label = [], []\n",
    "img_root = '../YJY_Rock/'\n",
    "with torch.no_grad():\n",
    "    model.eval()\n",
    "    for img in tqdm(tr_set[:]):\n",
    "        tr_label.append(label[img])\n",
    "    for img in tqdm(dev_set[:]):\n",
    "        dev_label.append(label[img])\n",
    "tr_label = np.array(tr_label)\n",
    "dev_label = np.array(dev_label)\n",
    "np.save('../YJY_Rock/Features_SimCLR/tr_res18_y.npy', tr_label)\n",
    "np.save('../YJY_Rock/Features_SimCLR/tt_res18_y.npy', dev_label)"
   ]
  }
 ],
 "metadata": {
  "kernelspec": {
   "display_name": "ml",
   "language": "python",
   "name": "python3"
  },
  "language_info": {
   "codemirror_mode": {
    "name": "ipython",
    "version": 3
   },
   "file_extension": ".py",
   "mimetype": "text/x-python",
   "name": "python",
   "nbconvert_exporter": "python",
   "pygments_lexer": "ipython3",
   "version": "3.8.0"
  }
 },
 "nbformat": 4,
 "nbformat_minor": 2
}
