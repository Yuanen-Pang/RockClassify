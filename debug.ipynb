{
 "cells": [
  {
   "cell_type": "code",
   "execution_count": 2,
   "metadata": {},
   "outputs": [],
   "source": [
    "import torch\n",
    "import torch.nn as nn\n",
    "from torchvision.transforms import transforms\n",
    "from torch.utils.data import Dataset, DataLoader\n",
    "from models.resnet_simclr import ResNetSimCLR\n",
    "import sys\n",
    "sys.path.append('../')\n",
    "from pyn import Json\n",
    "from PIL import Image\n",
    "from tqdm import tqdm, trange\n",
    "import numpy as np\n",
    "import os\n",
    "join = os.path.join"
   ]
  },
  {
   "cell_type": "code",
   "execution_count": 3,
   "metadata": {},
   "outputs": [],
   "source": [
    "PIL2Tesor = transforms.ToTensor()\n",
    "def img2tensor(img):\n",
    "    \n",
    "    img = Image.open(img)\n",
    "    return PIL2Tesor(img)\n",
    "\n",
    "class RockData(Dataset):\n",
    "\n",
    "    def __init__(self, root, image_paths, labels, n_views, merge_label=True):\n",
    "        self.root = root\n",
    "        self.image_paths = image_paths\n",
    "        self.labels = labels\n",
    "        self.transform = img2tensor\n",
    "        self.merge_label = merge_label\n",
    "    def __getitem__(self, idx):\n",
    "        image_path = self.image_paths[idx]\n",
    "        label = self.labels[image_path]\n",
    "        # 14标签合为3个\n",
    "        if self.merge_label:\n",
    "            if label >= 0 and label <= 4: label = 0\n",
    "            elif label > 4 and label <= 7: label = 1\n",
    "            elif label > 7 and label <= 14: label = 2\n",
    "        # 将图像缩放到224中心\n",
    "        image_input = self.transform(join(self.root, image_path))\n",
    "        label = torch.tensor(label).long()\n",
    "        return image_input, label\n",
    "    \n",
    "    def __len__(self):\n",
    "        return len(self.image_paths)"
   ]
  },
  {
   "cell_type": "code",
   "execution_count": 4,
   "metadata": {},
   "outputs": [
    {
     "name": "stderr",
     "output_type": "stream",
     "text": [
      "  0%|          | 0/1000 [00:00<?, ?it/s]/home/pye/.conda/envs/ml/lib/python3.8/site-packages/torch/nn/functional.py:718: UserWarning: Named tensors and all their associated APIs are an experimental feature and subject to change. Please do not use them for anything important until they are released as stable. (Triggered internally at  /pytorch/c10/core/TensorImpl.h:1156.)\n",
      "  return torch.max_pool2d(input, kernel_size, stride, padding, dilation, ceil_mode)\n",
      "100%|██████████| 1000/1000 [00:11<00:00, 84.30it/s]\n",
      "100%|██████████| 12600/12600 [02:35<00:00, 81.03it/s] \n",
      "100%|██████████| 2000/2000 [00:22<00:00, 90.42it/s] \n",
      "100%|██████████| 12600/12600 [02:12<00:00, 94.98it/s] \n",
      "100%|██████████| 3000/3000 [00:30<00:00, 99.39it/s] \n",
      "100%|██████████| 12600/12600 [02:06<00:00, 99.81it/s] \n",
      "100%|██████████| 4000/4000 [00:40<00:00, 98.67it/s] \n",
      "100%|██████████| 12600/12600 [02:06<00:00, 99.41it/s] \n",
      "100%|██████████| 5000/5000 [00:52<00:00, 94.70it/s] \n",
      "100%|██████████| 12600/12600 [02:09<00:00, 97.35it/s] \n"
     ]
    }
   ],
   "source": [
    "root = '../YJY_Rock'\n",
    "for ratio in [1000,2000,3000,4000,5000]:\n",
    "    permute, labels = Json.load('./config/BoxImg_224_permute_0.json'),\\\n",
    "                        Json.load('./config/labels.json')\n",
    "    tr_set, dev_set = permute['train_data'], permute['test_data']\n",
    "    # tr_set = tr_set[:int(len(tr_set)*(ratio/100))]\n",
    "    tr_set = tr_set[:ratio]\n",
    "    checkpoint = torch.load(f'./runs/Res18-256-{ratio}/checkpoint_0200.pth.tar', map_location=\"cuda:0\")\n",
    "    model = ResNetSimCLR(checkpoint['arch'], 128)\n",
    "    model.load_state_dict(checkpoint['state_dict'])\n",
    "    model = model.backbone.cuda()\n",
    "    model.fc = nn.Identity()\n",
    "    tr_features = []\n",
    "    tr_label = []\n",
    "    train_dataset = RockData(root, tr_set, labels, 2)\n",
    "    train_loader = torch.utils.data.DataLoader(\n",
    "        train_dataset, batch_size=1, shuffle=False,\n",
    "        num_workers=0, pin_memory=False, drop_last=False)\n",
    "    dev_dataset = RockData(root, dev_set, labels, 2)\n",
    "    dev_loader = torch.utils.data.DataLoader(\n",
    "        dev_dataset, batch_size=1, shuffle=False,\n",
    "        num_workers=0, pin_memory=False, drop_last=False)\n",
    "    with torch.no_grad():\n",
    "        model.eval()\n",
    "        for X, y in tqdm(train_loader):\n",
    "            X = X.cuda()\n",
    "            feature = model(X).cpu()\n",
    "            torch.cuda.empty_cache()\n",
    "            tr_features.append(feature)\n",
    "            tr_label.append(y)\n",
    "    _tr_features = np.concatenate(tr_features, axis=0)\n",
    "    _tr_label = np.concatenate(tr_label, axis=0)\n",
    "    np.save(f'../YJY_Rock/Features_SimCLR/data/tr_res18_256_{ratio}_X.npy', _tr_features)\n",
    "    np.save(f'../YJY_Rock/Features_SimCLR/data/tr_res18_256_{ratio}_y.npy', _tr_label)\n",
    "\n",
    "    dev_features = []\n",
    "    dev_label = []\n",
    "    with torch.no_grad():\n",
    "        model.eval()\n",
    "        for X, y in tqdm(dev_loader):\n",
    "            X = X.cuda()\n",
    "            feature = model(X).cpu()\n",
    "            torch.cuda.empty_cache()\n",
    "            dev_features.append(feature)\n",
    "            dev_label.append(y)\n",
    "    _dev_features = np.concatenate(dev_features, axis=0)\n",
    "    _dev_label = np.concatenate(dev_label, axis=0)\n",
    "    np.save(f'../YJY_Rock/Features_SimCLR/data/tt_res18_256_{ratio}_X.npy', _dev_features)\n",
    "    np.save(f'../YJY_Rock/Features_SimCLR/data/tt_res18_256_{ratio}_y.npy', _dev_label)"
   ]
  },
  {
   "cell_type": "code",
   "execution_count": 6,
   "metadata": {},
   "outputs": [
    {
     "name": "stdout",
     "output_type": "stream",
     "text": [
      "Counter({2: 5188, 1: 4683, 0: 2729})\n"
     ]
    }
   ],
   "source": [
    "from collections import Counter\n",
    "tr_X, tr_y = np.load('../YJY_Rock/Features_SimCLR/data/tr_res18_256_X.npy'),\\\n",
    "    np.load('../YJY_Rock/Features_SimCLR/data/tr_res18_256_y.npy')\n",
    "tt_X, tt_y = np.load('../YJY_Rock/Features_SimCLR/data/tt_res18_256_X.npy'),\\\n",
    "    np.load('../YJY_Rock/Features_SimCLR/data/tt_res18_256_y.npy')\n",
    "print(Counter(tt_y))"
   ]
  }
 ],
 "metadata": {
  "kernelspec": {
   "display_name": "Python 3 (ipykernel)",
   "language": "python",
   "name": "python3"
  },
  "language_info": {
   "codemirror_mode": {
    "name": "ipython",
    "version": 3
   },
   "file_extension": ".py",
   "mimetype": "text/x-python",
   "name": "python",
   "nbconvert_exporter": "python",
   "pygments_lexer": "ipython3",
   "version": "3.8.0"
  }
 },
 "nbformat": 4,
 "nbformat_minor": 4
}
